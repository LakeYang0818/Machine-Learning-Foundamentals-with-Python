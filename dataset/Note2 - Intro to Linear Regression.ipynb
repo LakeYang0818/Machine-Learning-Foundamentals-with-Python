{
 "cells": [
  {
   "cell_type": "markdown",
   "id": "2a931883",
   "metadata": {},
   "source": [
    "## Unit 2. Linear Regression\n",
    "\n",
    "### Regression Algorithms\n",
    "\n",
    "- Ordinal regression\n",
    "- Poisson regression\n",
    "- Fast forest quantile regression\n",
    "- Linear, Polynomial, Lasso, Stepwise, Ridge regression\n",
    "- Bayesian linear regression\n",
    "- Neural network regression\n",
    "- Decision forest regression\n",
    "- Boosted decision tree regression\n",
    "- KNN (K-nearest neighbors)"
   ]
  },
  {
   "cell_type": "markdown",
   "id": "f972edf5",
   "metadata": {},
   "source": [
    "### Model evaluation approaches\n",
    "\n",
    "- Train and Test on the same dataset\n",
    "- Train/Test split\n",
    "\n",
    "- Training Accuracy\n",
    "    - High training accuracy is not always good\n",
    "    - Result of over-fitting\n",
    "- Out-of-Sample Accuracy: is more important\n",
    "\n",
    "### Evaluation Metrics in Regression Models\n",
    "\n",
    "1. Regression accuracy\n",
    "    - Predicted values: $\\hat y_j$\n",
    "    - Actual values: $y_j$\n",
    "    - $MAE = \\frac{!}{n} \\sum_{j = 1}^n |y_j - \\hat y_j|$\n",
    "    - $MSE = \\frac{!}{n} \\sum_{j = 1}^n (y_j - \\hat y_j)^2$\n",
    "    - $RMSE = \\sqrt{\\frac{!}{n} \\sum_{j = 1}^n (y_j - \\hat y_j)^2}$\n",
    "    - $RAE = \\frac{\\sum_{j = 1}^n |y_j - \\hat y_j|}{\\sum_{j = 1}^n |y_j - \\bar y_j|}$\n",
    "    - $RSE = \\frac{\\sum_{j = 1}^n (y_j - \\hat y_j)^2}{\\sum_{j = 1}^n (y_j - \\bar y_j)^2}$\n",
    "    - $R^2 = 1 - RSE$"
   ]
  },
  {
   "cell_type": "markdown",
   "id": "1eff388c",
   "metadata": {},
   "source": [
    "### Classification Algorihtms:\n",
    "\n",
    "1. Simple Linear Regression: [Week2 - Note2 - Simple Linear Regression]\n",
    "\n",
    "2. Multiple Linear Regression: [Week2 - Note3 - Multiple Linear Regression"
   ]
  },
  {
   "cell_type": "code",
   "execution_count": null,
   "id": "3c09b8a6",
   "metadata": {},
   "outputs": [],
   "source": []
  }
 ],
 "metadata": {
  "kernelspec": {
   "display_name": "Python 3 (ipykernel)",
   "language": "python",
   "name": "python3"
  },
  "language_info": {
   "codemirror_mode": {
    "name": "ipython",
    "version": 3
   },
   "file_extension": ".py",
   "mimetype": "text/x-python",
   "name": "python",
   "nbconvert_exporter": "python",
   "pygments_lexer": "ipython3",
   "version": "3.10.9"
  }
 },
 "nbformat": 4,
 "nbformat_minor": 5
}
