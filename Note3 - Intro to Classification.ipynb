{
 "cells": [
  {
   "cell_type": "markdown",
   "id": "05f6a47f",
   "metadata": {},
   "source": [
    "### Intro to Classification\n",
    "\n",
    "- Supervised\n",
    "- To determine the class label for an unlabeled test case\n",
    "\n",
    "#### Classification Algorithms:\n",
    "\n",
    "- Decision Trees\n",
    "- Naive Bayes\n",
    "- Linear Discriminant Analysis\n",
    "- k-Nearest Neighbor\n",
    "- Logistic Regression\n",
    "- Neural Networks\n",
    "- SVM (Support Vector Machines)"
   ]
  },
  {
   "cell_type": "markdown",
   "id": "cd8816ae",
   "metadata": {},
   "source": [
    "### Intro to KNN (K-Nearest Neighbors)\n",
    "- A method for classifying cases based on their similarity to other cases\n",
    "- cases that are near each other are: \"neighbors\"\n",
    "\n",
    "#### KNN Algortihm\n",
    "1. Pick a value for K\n",
    "2. Calculate the distance of unknown case from all cases\n",
    "3. Select the K-observations in the training data that re \"nearest\" to the unknown data point\n",
    "4. Predict the response of the unknown data point using the most popular response value from the K-nearest neighbors\n",
    "\n",
    "#### similarity/distance in a 1D/2D/multi-Dim space\n",
    "$$Dis(x_1, x_2) = \\sqrt{\\sum_{i = 0}^n (x_{1i} - x_{2i})^2}$$\n",
    "\n",
    "#### Best value of K for KNN\n",
    "- K = 1: class 1\n",
    "- K = 20: may be too much"
   ]
  },
  {
   "attachments": {},
   "cell_type": "markdown",
   "id": "0a60cf37",
   "metadata": {},
   "source": [
    "### Evaluation Metrics in Classification\n",
    "\n",
    "#### Classification accuracy\n",
    "\n",
    "1. Jaccard index  (y: Actual labels ; $\\hat y$: predicted labels)\n",
    "$$\n",
    "J(y, \\hat y) = \\frac{|y \\cap \\hat y|}{|y \\cup \\hat y|}\n",
    "$$\n",
    "\n",
    "2. F1-score (0, 1): higher F1-score means higher accuracy.\n",
    "\n",
    "- Precision = TP / (TP + FP)\n",
    "- Recall = TP / (TP + FN)\n",
    "- F1-score = 2 * (prc * rec) / (prc + rec)\n",
    "- Confusion matrix\n",
    "\n",
    "3. Logloss (0, 1): lower Logloss means higher accuracy.\n",
    "Perfomance of a classifier where the predicted output is a probability value between 0 and 1.\n",
    "\n",
    "$$LogLoss = - \\frac{1}{n} \\sum (y \\times \\log(\\hat y) + (1-y) \\times \\log(1-\\hat y))$$"
   ]
  }
 ],
 "metadata": {
  "kernelspec": {
   "display_name": "Python 3 (ipykernel)",
   "language": "python",
   "name": "python3"
  },
  "language_info": {
   "codemirror_mode": {
    "name": "ipython",
    "version": 3
   },
   "file_extension": ".py",
   "mimetype": "text/x-python",
   "name": "python",
   "nbconvert_exporter": "python",
   "pygments_lexer": "ipython3",
   "version": "3.10.9"
  }
 },
 "nbformat": 4,
 "nbformat_minor": 5
}
