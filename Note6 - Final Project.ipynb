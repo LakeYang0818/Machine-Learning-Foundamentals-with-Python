{
 "cells": [
  {
   "cell_type": "markdown",
   "id": "ff9245e2",
   "metadata": {},
   "source": [
    "# Final Project: Rain Prediction in Australia\n",
    "\n",
    "Build models with:\n",
    "1.  Linear Regression\n",
    "2.  KNN\n",
    "3.  Decision Trees\n",
    "4.  Logistic Regression\n",
    "5.  SVM\n",
    "\n",
    "Metrics:\n",
    "1. Accuracy Score\n",
    "2. Jaccard Index\n",
    "3. F1-Score\n",
    "4. LogLoss\n",
    "5. Mean Absolute Error\n",
    "6. Mean Squared Error\n",
    "7. R2-Score\n",
    "\n",
    "Evaluate the models using:\n",
    "1. Accuracy Score\n",
    "2. Jaccard Index\n",
    "3. F1-Score\n",
    "4. LogLoss\n",
    "5. Mean Absolute Error\n",
    "6. Mean Squared Error\n",
    "7. R2-Score"
   ]
  },
  {
   "cell_type": "markdown",
   "id": "7da5666a",
   "metadata": {},
   "source": [
    "### Step 1. Import Packages"
   ]
  },
  {
   "cell_type": "code",
   "execution_count": 9,
   "id": "f6bc3773",
   "metadata": {},
   "outputs": [],
   "source": [
    "import pandas as pd\n",
    "import numpy as np\n",
    "\n",
    "# Regression\n",
    "from sklearn.linear_model import LogisticRegression\n",
    "from sklearn.linear_model import LinearRegression\n",
    "from sklearn import preprocessing\n",
    "\n",
    "# Classification\n",
    "from sklearn.model_selection import train_test_split\n",
    "from sklearn.neighbors import KNeighborsClassifier\n",
    "from sklearn.tree import DecisionTreeClassifier\n",
    "from sklearn import svm\n",
    "\n",
    "# Evaluation Metrics\n",
    "from sklearn.metrics import jaccard_score\n",
    "from sklearn.metrics import f1_score\n",
    "from sklearn.metrics import log_loss\n",
    "from sklearn.metrics import confusion_matrix, accuracy_score\n",
    "import sklearn.metrics as metrics\n"
   ]
  },
  {
   "cell_type": "markdown",
   "id": "da943057",
   "metadata": {},
   "source": [
    "### Step 2. Read in the data\n",
    "- The dataset contains observations of weather metrics for each dat from 2008 to 2017\n",
    "- [Download dataset here](https://cf-courses-data.s3.us.cloud-object-storage.appdomain.cloud/IBMDeveloperSkillsNetwork-ML0101EN-SkillUp/labs/ML-FinalAssignment/Weather_Data.csv)"
   ]
  },
  {
   "cell_type": "code",
   "execution_count": 12,
   "id": "863a7984",
   "metadata": {},
   "outputs": [
    {
     "data": {
      "text/html": [
       "<div>\n",
       "<style scoped>\n",
       "    .dataframe tbody tr th:only-of-type {\n",
       "        vertical-align: middle;\n",
       "    }\n",
       "\n",
       "    .dataframe tbody tr th {\n",
       "        vertical-align: top;\n",
       "    }\n",
       "\n",
       "    .dataframe thead th {\n",
       "        text-align: right;\n",
       "    }\n",
       "</style>\n",
       "<table border=\"1\" class=\"dataframe\">\n",
       "  <thead>\n",
       "    <tr style=\"text-align: right;\">\n",
       "      <th></th>\n",
       "      <th>Date</th>\n",
       "      <th>MinTemp</th>\n",
       "      <th>MaxTemp</th>\n",
       "      <th>Rainfall</th>\n",
       "      <th>Evaporation</th>\n",
       "      <th>Sunshine</th>\n",
       "      <th>WindGustDir</th>\n",
       "      <th>WindGustSpeed</th>\n",
       "      <th>WindDir9am</th>\n",
       "      <th>WindDir3pm</th>\n",
       "      <th>...</th>\n",
       "      <th>Humidity9am</th>\n",
       "      <th>Humidity3pm</th>\n",
       "      <th>Pressure9am</th>\n",
       "      <th>Pressure3pm</th>\n",
       "      <th>Cloud9am</th>\n",
       "      <th>Cloud3pm</th>\n",
       "      <th>Temp9am</th>\n",
       "      <th>Temp3pm</th>\n",
       "      <th>RainToday</th>\n",
       "      <th>RainTomorrow</th>\n",
       "    </tr>\n",
       "  </thead>\n",
       "  <tbody>\n",
       "    <tr>\n",
       "      <th>0</th>\n",
       "      <td>2/1/2008</td>\n",
       "      <td>19.5</td>\n",
       "      <td>22.4</td>\n",
       "      <td>15.6</td>\n",
       "      <td>6.2</td>\n",
       "      <td>0.0</td>\n",
       "      <td>W</td>\n",
       "      <td>41</td>\n",
       "      <td>S</td>\n",
       "      <td>SSW</td>\n",
       "      <td>...</td>\n",
       "      <td>92</td>\n",
       "      <td>84</td>\n",
       "      <td>1017.6</td>\n",
       "      <td>1017.4</td>\n",
       "      <td>8</td>\n",
       "      <td>8</td>\n",
       "      <td>20.7</td>\n",
       "      <td>20.9</td>\n",
       "      <td>Yes</td>\n",
       "      <td>Yes</td>\n",
       "    </tr>\n",
       "    <tr>\n",
       "      <th>1</th>\n",
       "      <td>2/2/2008</td>\n",
       "      <td>19.5</td>\n",
       "      <td>25.6</td>\n",
       "      <td>6.0</td>\n",
       "      <td>3.4</td>\n",
       "      <td>2.7</td>\n",
       "      <td>W</td>\n",
       "      <td>41</td>\n",
       "      <td>W</td>\n",
       "      <td>E</td>\n",
       "      <td>...</td>\n",
       "      <td>83</td>\n",
       "      <td>73</td>\n",
       "      <td>1017.9</td>\n",
       "      <td>1016.4</td>\n",
       "      <td>7</td>\n",
       "      <td>7</td>\n",
       "      <td>22.4</td>\n",
       "      <td>24.8</td>\n",
       "      <td>Yes</td>\n",
       "      <td>Yes</td>\n",
       "    </tr>\n",
       "    <tr>\n",
       "      <th>2</th>\n",
       "      <td>2/3/2008</td>\n",
       "      <td>21.6</td>\n",
       "      <td>24.5</td>\n",
       "      <td>6.6</td>\n",
       "      <td>2.4</td>\n",
       "      <td>0.1</td>\n",
       "      <td>W</td>\n",
       "      <td>41</td>\n",
       "      <td>ESE</td>\n",
       "      <td>ESE</td>\n",
       "      <td>...</td>\n",
       "      <td>88</td>\n",
       "      <td>86</td>\n",
       "      <td>1016.7</td>\n",
       "      <td>1015.6</td>\n",
       "      <td>7</td>\n",
       "      <td>8</td>\n",
       "      <td>23.5</td>\n",
       "      <td>23.0</td>\n",
       "      <td>Yes</td>\n",
       "      <td>Yes</td>\n",
       "    </tr>\n",
       "    <tr>\n",
       "      <th>3</th>\n",
       "      <td>2/4/2008</td>\n",
       "      <td>20.2</td>\n",
       "      <td>22.8</td>\n",
       "      <td>18.8</td>\n",
       "      <td>2.2</td>\n",
       "      <td>0.0</td>\n",
       "      <td>W</td>\n",
       "      <td>41</td>\n",
       "      <td>NNE</td>\n",
       "      <td>E</td>\n",
       "      <td>...</td>\n",
       "      <td>83</td>\n",
       "      <td>90</td>\n",
       "      <td>1014.2</td>\n",
       "      <td>1011.8</td>\n",
       "      <td>8</td>\n",
       "      <td>8</td>\n",
       "      <td>21.4</td>\n",
       "      <td>20.9</td>\n",
       "      <td>Yes</td>\n",
       "      <td>Yes</td>\n",
       "    </tr>\n",
       "    <tr>\n",
       "      <th>4</th>\n",
       "      <td>2/5/2008</td>\n",
       "      <td>19.7</td>\n",
       "      <td>25.7</td>\n",
       "      <td>77.4</td>\n",
       "      <td>4.8</td>\n",
       "      <td>0.0</td>\n",
       "      <td>W</td>\n",
       "      <td>41</td>\n",
       "      <td>NNE</td>\n",
       "      <td>W</td>\n",
       "      <td>...</td>\n",
       "      <td>88</td>\n",
       "      <td>74</td>\n",
       "      <td>1008.3</td>\n",
       "      <td>1004.8</td>\n",
       "      <td>8</td>\n",
       "      <td>8</td>\n",
       "      <td>22.5</td>\n",
       "      <td>25.5</td>\n",
       "      <td>Yes</td>\n",
       "      <td>Yes</td>\n",
       "    </tr>\n",
       "  </tbody>\n",
       "</table>\n",
       "<p>5 rows × 22 columns</p>\n",
       "</div>"
      ],
      "text/plain": [
       "       Date  MinTemp  MaxTemp  Rainfall  Evaporation  Sunshine WindGustDir  \\\n",
       "0  2/1/2008     19.5     22.4      15.6          6.2       0.0           W   \n",
       "1  2/2/2008     19.5     25.6       6.0          3.4       2.7           W   \n",
       "2  2/3/2008     21.6     24.5       6.6          2.4       0.1           W   \n",
       "3  2/4/2008     20.2     22.8      18.8          2.2       0.0           W   \n",
       "4  2/5/2008     19.7     25.7      77.4          4.8       0.0           W   \n",
       "\n",
       "   WindGustSpeed WindDir9am WindDir3pm  ...  Humidity9am  Humidity3pm  \\\n",
       "0             41          S        SSW  ...           92           84   \n",
       "1             41          W          E  ...           83           73   \n",
       "2             41        ESE        ESE  ...           88           86   \n",
       "3             41        NNE          E  ...           83           90   \n",
       "4             41        NNE          W  ...           88           74   \n",
       "\n",
       "   Pressure9am  Pressure3pm  Cloud9am  Cloud3pm  Temp9am  Temp3pm  RainToday  \\\n",
       "0       1017.6       1017.4         8         8     20.7     20.9        Yes   \n",
       "1       1017.9       1016.4         7         7     22.4     24.8        Yes   \n",
       "2       1016.7       1015.6         7         8     23.5     23.0        Yes   \n",
       "3       1014.2       1011.8         8         8     21.4     20.9        Yes   \n",
       "4       1008.3       1004.8         8         8     22.5     25.5        Yes   \n",
       "\n",
       "   RainTomorrow  \n",
       "0           Yes  \n",
       "1           Yes  \n",
       "2           Yes  \n",
       "3           Yes  \n",
       "4           Yes  \n",
       "\n",
       "[5 rows x 22 columns]"
      ]
     },
     "execution_count": 12,
     "metadata": {},
     "output_type": "execute_result"
    }
   ],
   "source": [
    "df = pd.read_csv(\"/Users/pc/Desktop/IBM AI Engineer/Machine Learning with Python/Weather_Data.csv\")\n",
    "df.head()\n"
   ]
  },
  {
   "cell_type": "markdown",
   "id": "862d1c13",
   "metadata": {},
   "source": [
    "### Step 3. Data preprocessing\n",
    "\n",
    "### One Hot Encoding: to convert categorical variables to binary varibales"
   ]
  },
  {
   "cell_type": "code",
   "execution_count": 13,
   "id": "f059d9e1",
   "metadata": {},
   "outputs": [],
   "source": [
    "df_sydney_processed = pd.get_dummies(data = df, columns = [\"RainToday\", \"WindGustDir\", \"WindDir9am\", \"WindDir3pm\"])"
   ]
  },
  {
   "cell_type": "code",
   "execution_count": 14,
   "id": "848c277c",
   "metadata": {},
   "outputs": [],
   "source": [
    "# Categorical column => numerical column\n",
    "# Replace \"Rain tomorrow\" column changing them from a categorical column to a binary column.\n",
    "df_sydney_processed.replace([\"No\", \"Yes\"], [0, 1], inplace = True)\n"
   ]
  },
  {
   "cell_type": "markdown",
   "id": "0bbf89dd",
   "metadata": {},
   "source": [
    "### Step 4. Train and Test data"
   ]
  },
  {
   "cell_type": "code",
   "execution_count": 16,
   "id": "159c9832",
   "metadata": {},
   "outputs": [],
   "source": [
    "# Set \"Features\": x valuss and \"Target\" variable: y values\n",
    "df_sydney_processed.drop(\"Date\", axis = 1, inplace = True)\n",
    "df_sydney_processed = df_sydney_processed.astype(float)\n",
    "\n",
    "features = df_sydney_processed.drop(columns = \"RainTomorrow\", axis = 1)\n",
    "Y = df_sydney_processed[\"RainTomorrow\"]"
   ]
  },
  {
   "cell_type": "markdown",
   "id": "02e54e25",
   "metadata": {},
   "source": [
    "### Step 5. Model: Linear Regression\n",
    "\n",
    "#### Q1. \n",
    "- Use the train_test_split function to split the features\n",
    "- Y dataframes with a test_size of 0.2\n",
    "- The randome_state ste to 10"
   ]
  },
  {
   "cell_type": "code",
   "execution_count": 27,
   "id": "eaf371e2",
   "metadata": {},
   "outputs": [],
   "source": [
    "x_train, x_test, y_train, y_test = train_test_split(features, Y, test_size = 0.2, random_state = 10)\n"
   ]
  },
  {
   "cell_type": "markdown",
   "id": "65d3c6ba",
   "metadata": {},
   "source": [
    "#### Q2. Create and train a Linear Regression model called LinearReg using training data(x_train, y_train)"
   ]
  },
  {
   "cell_type": "code",
   "execution_count": 28,
   "id": "c32277c2",
   "metadata": {},
   "outputs": [
    {
     "data": {
      "text/html": [
       "<style>#sk-container-id-2 {color: black;background-color: white;}#sk-container-id-2 pre{padding: 0;}#sk-container-id-2 div.sk-toggleable {background-color: white;}#sk-container-id-2 label.sk-toggleable__label {cursor: pointer;display: block;width: 100%;margin-bottom: 0;padding: 0.3em;box-sizing: border-box;text-align: center;}#sk-container-id-2 label.sk-toggleable__label-arrow:before {content: \"▸\";float: left;margin-right: 0.25em;color: #696969;}#sk-container-id-2 label.sk-toggleable__label-arrow:hover:before {color: black;}#sk-container-id-2 div.sk-estimator:hover label.sk-toggleable__label-arrow:before {color: black;}#sk-container-id-2 div.sk-toggleable__content {max-height: 0;max-width: 0;overflow: hidden;text-align: left;background-color: #f0f8ff;}#sk-container-id-2 div.sk-toggleable__content pre {margin: 0.2em;color: black;border-radius: 0.25em;background-color: #f0f8ff;}#sk-container-id-2 input.sk-toggleable__control:checked~div.sk-toggleable__content {max-height: 200px;max-width: 100%;overflow: auto;}#sk-container-id-2 input.sk-toggleable__control:checked~label.sk-toggleable__label-arrow:before {content: \"▾\";}#sk-container-id-2 div.sk-estimator input.sk-toggleable__control:checked~label.sk-toggleable__label {background-color: #d4ebff;}#sk-container-id-2 div.sk-label input.sk-toggleable__control:checked~label.sk-toggleable__label {background-color: #d4ebff;}#sk-container-id-2 input.sk-hidden--visually {border: 0;clip: rect(1px 1px 1px 1px);clip: rect(1px, 1px, 1px, 1px);height: 1px;margin: -1px;overflow: hidden;padding: 0;position: absolute;width: 1px;}#sk-container-id-2 div.sk-estimator {font-family: monospace;background-color: #f0f8ff;border: 1px dotted black;border-radius: 0.25em;box-sizing: border-box;margin-bottom: 0.5em;}#sk-container-id-2 div.sk-estimator:hover {background-color: #d4ebff;}#sk-container-id-2 div.sk-parallel-item::after {content: \"\";width: 100%;border-bottom: 1px solid gray;flex-grow: 1;}#sk-container-id-2 div.sk-label:hover label.sk-toggleable__label {background-color: #d4ebff;}#sk-container-id-2 div.sk-serial::before {content: \"\";position: absolute;border-left: 1px solid gray;box-sizing: border-box;top: 0;bottom: 0;left: 50%;z-index: 0;}#sk-container-id-2 div.sk-serial {display: flex;flex-direction: column;align-items: center;background-color: white;padding-right: 0.2em;padding-left: 0.2em;position: relative;}#sk-container-id-2 div.sk-item {position: relative;z-index: 1;}#sk-container-id-2 div.sk-parallel {display: flex;align-items: stretch;justify-content: center;background-color: white;position: relative;}#sk-container-id-2 div.sk-item::before, #sk-container-id-2 div.sk-parallel-item::before {content: \"\";position: absolute;border-left: 1px solid gray;box-sizing: border-box;top: 0;bottom: 0;left: 50%;z-index: -1;}#sk-container-id-2 div.sk-parallel-item {display: flex;flex-direction: column;z-index: 1;position: relative;background-color: white;}#sk-container-id-2 div.sk-parallel-item:first-child::after {align-self: flex-end;width: 50%;}#sk-container-id-2 div.sk-parallel-item:last-child::after {align-self: flex-start;width: 50%;}#sk-container-id-2 div.sk-parallel-item:only-child::after {width: 0;}#sk-container-id-2 div.sk-dashed-wrapped {border: 1px dashed gray;margin: 0 0.4em 0.5em 0.4em;box-sizing: border-box;padding-bottom: 0.4em;background-color: white;}#sk-container-id-2 div.sk-label label {font-family: monospace;font-weight: bold;display: inline-block;line-height: 1.2em;}#sk-container-id-2 div.sk-label-container {text-align: center;}#sk-container-id-2 div.sk-container {/* jupyter's `normalize.less` sets `[hidden] { display: none; }` but bootstrap.min.css set `[hidden] { display: none !important; }` so we also need the `!important` here to be able to override the default hidden behavior on the sphinx rendered scikit-learn.org. See: https://github.com/scikit-learn/scikit-learn/issues/21755 */display: inline-block !important;position: relative;}#sk-container-id-2 div.sk-text-repr-fallback {display: none;}</style><div id=\"sk-container-id-2\" class=\"sk-top-container\"><div class=\"sk-text-repr-fallback\"><pre>LinearRegression()</pre><b>In a Jupyter environment, please rerun this cell to show the HTML representation or trust the notebook. <br />On GitHub, the HTML representation is unable to render, please try loading this page with nbviewer.org.</b></div><div class=\"sk-container\" hidden><div class=\"sk-item\"><div class=\"sk-estimator sk-toggleable\"><input class=\"sk-toggleable__control sk-hidden--visually\" id=\"sk-estimator-id-2\" type=\"checkbox\" checked><label for=\"sk-estimator-id-2\" class=\"sk-toggleable__label sk-toggleable__label-arrow\">LinearRegression</label><div class=\"sk-toggleable__content\"><pre>LinearRegression()</pre></div></div></div></div></div>"
      ],
      "text/plain": [
       "LinearRegression()"
      ]
     },
     "execution_count": 28,
     "metadata": {},
     "output_type": "execute_result"
    }
   ],
   "source": [
    "LinearReg = LinearRegression()\n",
    "LinearReg.fit(x_train, y_train)"
   ]
  },
  {
   "cell_type": "markdown",
   "id": "5780e469",
   "metadata": {},
   "source": [
    "#### Q3. Use the predict method on the testing data (x_test) and save it to the array predictions"
   ]
  },
  {
   "cell_type": "code",
   "execution_count": 26,
   "id": "86bb68d6",
   "metadata": {},
   "outputs": [],
   "source": [
    "predictions = LinearReg.predict(x_test)"
   ]
  },
  {
   "cell_type": "markdown",
   "id": "ad3e2ab4",
   "metadata": {},
   "source": [
    "#### Q4. Using the predictions and the y_test dataframee calculate the value for each metric using the appropriate function\n"
   ]
  },
  {
   "cell_type": "code",
   "execution_count": 33,
   "id": "98b1fbba",
   "metadata": {},
   "outputs": [],
   "source": [
    "LinearRegression_MAE = np.mean(np.absolute(y_test - predictions))\n",
    "LinearRegression_MSE = np.mean(np.mean((y_test - predictions)**2))\n",
    "from sklearn.metrics import r2_score\n",
    "LinearRegression_R2  = r2_score(y_test, predictions)\n"
   ]
  },
  {
   "cell_type": "markdown",
   "id": "6151e22d",
   "metadata": {},
   "source": [
    "#### Q5. Show the MAE, MSE, and R2 in a tabular format using data frame for the Linear model"
   ]
  },
  {
   "cell_type": "code",
   "execution_count": 73,
   "id": "e3b9d84f",
   "metadata": {},
   "outputs": [
    {
     "name": "stdout",
     "output_type": "stream",
     "text": [
      "                        MAE       MSE\n",
      "Linear Regression  0.427132  0.115721\n"
     ]
    }
   ],
   "source": [
    "data = {\n",
    "    'MAE': [LinearRegression_MAE],\n",
    "    'MSE': [LinearRegression_MSE],\n",
    "    'MAE': [LinearRegression_R2]\n",
    "}\n",
    "row_names = ['Linear Regression']\n",
    "Report = pd.DataFrame(data, index = row_names)\n",
    "print(Report)"
   ]
  },
  {
   "cell_type": "code",
   "execution_count": 65,
   "id": "3219414c",
   "metadata": {},
   "outputs": [
    {
     "name": "stdout",
     "output_type": "stream",
     "text": [
      "         Age Country\n",
      "Alice     25     USA\n",
      "Bob       30  Canada\n",
      "Charlie   22      UK\n"
     ]
    }
   ],
   "source": [
    "\n",
    "data = {\n",
    "    'Age': [25, 30, 22],\n",
    "    'Country': ['USA', 'Canada', 'UK']\n",
    "}\n",
    "\n",
    "# Define row names\n",
    "row_names = ['Alice', 'Bob', 'Charlie']\n",
    "\n",
    "# Create a DataFrame with specified row names\n",
    "df = pd.DataFrame(data, index=row_names)\n",
    "print(df)"
   ]
  },
  {
   "cell_type": "markdown",
   "id": "976a569d",
   "metadata": {},
   "source": [
    "### Q6. KNN\n",
    "- Create and train a KNN model called KNN using the training data (x_train, y_train) \n",
    "- with the n_neighbors parameter set to 4"
   ]
  },
  {
   "cell_type": "code",
   "execution_count": 37,
   "id": "3ff809e3",
   "metadata": {},
   "outputs": [],
   "source": [
    "k = 4\n",
    "KNN = KNeighborsClassifier(n_neighbors = k).fit(x_train, y_train)"
   ]
  },
  {
   "cell_type": "markdown",
   "id": "ee96290c",
   "metadata": {},
   "source": [
    "### Q7. Prediction\n",
    "- Use the predict method on the testing data x_test and save it to the array predictions"
   ]
  },
  {
   "cell_type": "code",
   "execution_count": 39,
   "id": "de45cbaa",
   "metadata": {},
   "outputs": [
    {
     "name": "stderr",
     "output_type": "stream",
     "text": [
      "/Users/pc/anaconda3/lib/python3.10/site-packages/sklearn/base.py:420: UserWarning: X does not have valid feature names, but KNeighborsClassifier was fitted with feature names\n",
      "  warnings.warn(\n"
     ]
    }
   ],
   "source": [
    "x_test_norm = preprocessing.StandardScaler().fit(x_test).transform(x_test.astype(float))\n",
    "predictions = KNN.predict(x_test_norm)\n"
   ]
  },
  {
   "cell_type": "markdown",
   "id": "f9c5d609",
   "metadata": {},
   "source": [
    "### Q8.\n",
    "- Use the predictions and the y_test dataframe to calculate the value for each metric using the appropriate function"
   ]
  },
  {
   "cell_type": "code",
   "execution_count": 44,
   "id": "a83175d1",
   "metadata": {},
   "outputs": [],
   "source": [
    "KNN_Accuracy_Score = accuracy_score(y_test, predictions)\n",
    "KNN_JacardIndex    = jaccard_score(y_test, predictions)\n",
    "KNN_F1_Score       = f1_score(y_test, predictions)"
   ]
  },
  {
   "cell_type": "markdown",
   "id": "0b05ff17",
   "metadata": {},
   "source": [
    "### Q9. Decision Tree\n",
    "- Create and train a Decision Tree model called Tree using the training data (x_train, y_train)"
   ]
  },
  {
   "cell_type": "code",
   "execution_count": 46,
   "id": "7cfc3e3d",
   "metadata": {},
   "outputs": [
    {
     "data": {
      "text/html": [
       "<style>#sk-container-id-4 {color: black;background-color: white;}#sk-container-id-4 pre{padding: 0;}#sk-container-id-4 div.sk-toggleable {background-color: white;}#sk-container-id-4 label.sk-toggleable__label {cursor: pointer;display: block;width: 100%;margin-bottom: 0;padding: 0.3em;box-sizing: border-box;text-align: center;}#sk-container-id-4 label.sk-toggleable__label-arrow:before {content: \"▸\";float: left;margin-right: 0.25em;color: #696969;}#sk-container-id-4 label.sk-toggleable__label-arrow:hover:before {color: black;}#sk-container-id-4 div.sk-estimator:hover label.sk-toggleable__label-arrow:before {color: black;}#sk-container-id-4 div.sk-toggleable__content {max-height: 0;max-width: 0;overflow: hidden;text-align: left;background-color: #f0f8ff;}#sk-container-id-4 div.sk-toggleable__content pre {margin: 0.2em;color: black;border-radius: 0.25em;background-color: #f0f8ff;}#sk-container-id-4 input.sk-toggleable__control:checked~div.sk-toggleable__content {max-height: 200px;max-width: 100%;overflow: auto;}#sk-container-id-4 input.sk-toggleable__control:checked~label.sk-toggleable__label-arrow:before {content: \"▾\";}#sk-container-id-4 div.sk-estimator input.sk-toggleable__control:checked~label.sk-toggleable__label {background-color: #d4ebff;}#sk-container-id-4 div.sk-label input.sk-toggleable__control:checked~label.sk-toggleable__label {background-color: #d4ebff;}#sk-container-id-4 input.sk-hidden--visually {border: 0;clip: rect(1px 1px 1px 1px);clip: rect(1px, 1px, 1px, 1px);height: 1px;margin: -1px;overflow: hidden;padding: 0;position: absolute;width: 1px;}#sk-container-id-4 div.sk-estimator {font-family: monospace;background-color: #f0f8ff;border: 1px dotted black;border-radius: 0.25em;box-sizing: border-box;margin-bottom: 0.5em;}#sk-container-id-4 div.sk-estimator:hover {background-color: #d4ebff;}#sk-container-id-4 div.sk-parallel-item::after {content: \"\";width: 100%;border-bottom: 1px solid gray;flex-grow: 1;}#sk-container-id-4 div.sk-label:hover label.sk-toggleable__label {background-color: #d4ebff;}#sk-container-id-4 div.sk-serial::before {content: \"\";position: absolute;border-left: 1px solid gray;box-sizing: border-box;top: 0;bottom: 0;left: 50%;z-index: 0;}#sk-container-id-4 div.sk-serial {display: flex;flex-direction: column;align-items: center;background-color: white;padding-right: 0.2em;padding-left: 0.2em;position: relative;}#sk-container-id-4 div.sk-item {position: relative;z-index: 1;}#sk-container-id-4 div.sk-parallel {display: flex;align-items: stretch;justify-content: center;background-color: white;position: relative;}#sk-container-id-4 div.sk-item::before, #sk-container-id-4 div.sk-parallel-item::before {content: \"\";position: absolute;border-left: 1px solid gray;box-sizing: border-box;top: 0;bottom: 0;left: 50%;z-index: -1;}#sk-container-id-4 div.sk-parallel-item {display: flex;flex-direction: column;z-index: 1;position: relative;background-color: white;}#sk-container-id-4 div.sk-parallel-item:first-child::after {align-self: flex-end;width: 50%;}#sk-container-id-4 div.sk-parallel-item:last-child::after {align-self: flex-start;width: 50%;}#sk-container-id-4 div.sk-parallel-item:only-child::after {width: 0;}#sk-container-id-4 div.sk-dashed-wrapped {border: 1px dashed gray;margin: 0 0.4em 0.5em 0.4em;box-sizing: border-box;padding-bottom: 0.4em;background-color: white;}#sk-container-id-4 div.sk-label label {font-family: monospace;font-weight: bold;display: inline-block;line-height: 1.2em;}#sk-container-id-4 div.sk-label-container {text-align: center;}#sk-container-id-4 div.sk-container {/* jupyter's `normalize.less` sets `[hidden] { display: none; }` but bootstrap.min.css set `[hidden] { display: none !important; }` so we also need the `!important` here to be able to override the default hidden behavior on the sphinx rendered scikit-learn.org. See: https://github.com/scikit-learn/scikit-learn/issues/21755 */display: inline-block !important;position: relative;}#sk-container-id-4 div.sk-text-repr-fallback {display: none;}</style><div id=\"sk-container-id-4\" class=\"sk-top-container\"><div class=\"sk-text-repr-fallback\"><pre>DecisionTreeClassifier(criterion=&#x27;entropy&#x27;, max_depth=4)</pre><b>In a Jupyter environment, please rerun this cell to show the HTML representation or trust the notebook. <br />On GitHub, the HTML representation is unable to render, please try loading this page with nbviewer.org.</b></div><div class=\"sk-container\" hidden><div class=\"sk-item\"><div class=\"sk-estimator sk-toggleable\"><input class=\"sk-toggleable__control sk-hidden--visually\" id=\"sk-estimator-id-4\" type=\"checkbox\" checked><label for=\"sk-estimator-id-4\" class=\"sk-toggleable__label sk-toggleable__label-arrow\">DecisionTreeClassifier</label><div class=\"sk-toggleable__content\"><pre>DecisionTreeClassifier(criterion=&#x27;entropy&#x27;, max_depth=4)</pre></div></div></div></div></div>"
      ],
      "text/plain": [
       "DecisionTreeClassifier(criterion='entropy', max_depth=4)"
      ]
     },
     "execution_count": 46,
     "metadata": {},
     "output_type": "execute_result"
    }
   ],
   "source": [
    "Tree = DecisionTreeClassifier(criterion = \"entropy\", max_depth = 4)\n",
    "Tree.fit(x_train, y_train)"
   ]
  },
  {
   "cell_type": "markdown",
   "id": "e5b5eaf2",
   "metadata": {},
   "source": [
    "### Q10. \n",
    "- Use the predict method on the testing data x_test\n",
    "- save it to the array predictions"
   ]
  },
  {
   "cell_type": "code",
   "execution_count": 47,
   "id": "e6160fd8",
   "metadata": {},
   "outputs": [],
   "source": [
    "predictions = Tree.predict(x_test)"
   ]
  },
  {
   "cell_type": "markdown",
   "id": "2d1fdc0e",
   "metadata": {},
   "source": [
    "### Q11.\n",
    "- Use the predictions and the y_test dataframe to calculate the value for each metric using the appropriate function."
   ]
  },
  {
   "cell_type": "code",
   "execution_count": 48,
   "id": "27edbe30",
   "metadata": {},
   "outputs": [],
   "source": [
    "Tree_Accuracy_Score = accuracy_score(y_test, predictions)\n",
    "Tree_JaccardIndex   = jaccard_score(y_test, predictions)\n",
    "Tree_F1_Score       = f1_score(y_test, predictions)"
   ]
  },
  {
   "cell_type": "markdown",
   "id": "2707edb1",
   "metadata": {},
   "source": [
    "### Q12. Logistic Regression\n",
    "- Use the train_test_split function to split the features \n",
    "- Y dataframes with a testsize of 0.2\n",
    "- the random_state set to 1"
   ]
  },
  {
   "cell_type": "code",
   "execution_count": 49,
   "id": "aac5b50e",
   "metadata": {},
   "outputs": [],
   "source": [
    "x_train, x_test, y_train, y_test = train_test_split(features, Y, test_size = 0.2, random_state = 1)\n"
   ]
  },
  {
   "cell_type": "markdown",
   "id": "c603ab35",
   "metadata": {},
   "source": [
    "### Q13.\n",
    "- Create and Train a Logistic Regression model called LR using the training data (x_train, y_train) with teh solver parameter set to liblinear"
   ]
  },
  {
   "cell_type": "code",
   "execution_count": 51,
   "id": "45c50993",
   "metadata": {},
   "outputs": [],
   "source": [
    "LR = LogisticRegression(C = 0.01, solver = 'liblinear').fit(x_train, y_train)\n"
   ]
  },
  {
   "cell_type": "markdown",
   "id": "a95667ee",
   "metadata": {},
   "source": [
    "### Q14.\n",
    "- Use the predict and predict_proba methods on the testing data (x_test) and save it as 2 arrays predictions and predict_proba"
   ]
  },
  {
   "cell_type": "code",
   "execution_count": 52,
   "id": "c48ddfc2",
   "metadata": {},
   "outputs": [],
   "source": [
    "predictions = LR.predict(x_test)"
   ]
  },
  {
   "cell_type": "code",
   "execution_count": 53,
   "id": "676f77b7",
   "metadata": {},
   "outputs": [],
   "source": [
    "predict_proba = LR.predict_proba(x_test)"
   ]
  },
  {
   "cell_type": "markdown",
   "id": "5fc9d626",
   "metadata": {},
   "source": [
    "### Q15. \n",
    "- Using the predictions, predict_proba and the y_test dataframe to calculate the value for each metric using the appropriate function."
   ]
  },
  {
   "cell_type": "code",
   "execution_count": 55,
   "id": "bd95fae7",
   "metadata": {},
   "outputs": [],
   "source": [
    "LR_Accuracy_Score = accuracy_score(y_test, predictions)\n",
    "LR_JaccardIndex   = jaccard_score(y_test, predictions)\n",
    "LR_F1_Score       = f1_score(y_test, predictions)\n",
    "LR_Log_Loss       = log_loss(y_test, predictions)"
   ]
  },
  {
   "cell_type": "markdown",
   "id": "29929f52",
   "metadata": {},
   "source": [
    "### Q16. SVM\n",
    "- Create and train a SVM model called SVM using the training data (x_train, y_train)"
   ]
  },
  {
   "cell_type": "code",
   "execution_count": 58,
   "id": "a3d8e4e7",
   "metadata": {},
   "outputs": [],
   "source": [
    "SVM = svm.SVC(kernel='linear').fit(x_train, y_train)"
   ]
  },
  {
   "cell_type": "markdown",
   "id": "7bbf368b",
   "metadata": {},
   "source": [
    "### Q17\n",
    "- Now use the predict method on the existing data (x_test) and save it to the array predictions"
   ]
  },
  {
   "cell_type": "code",
   "execution_count": 62,
   "id": "eea215b9",
   "metadata": {},
   "outputs": [],
   "source": [
    "predictions = SVM.predict(x_test)"
   ]
  },
  {
   "cell_type": "markdown",
   "id": "0ad302ec",
   "metadata": {},
   "source": [
    "### Q18\n",
    "- Use the predictions and the y_test dataframe to calculate the value for each metric using the appropriate function"
   ]
  },
  {
   "cell_type": "code",
   "execution_count": 63,
   "id": "d60b1aa2",
   "metadata": {},
   "outputs": [],
   "source": [
    "SVM_Accuracy_Score = accuracy_score(y_test, predictions)\n",
    "SVM_JaccardIndex   = jaccard_score(y_test, predictions)\n",
    "SVM_F1_Score       = f1_score(y_test, predictions)"
   ]
  },
  {
   "cell_type": "markdown",
   "id": "61878569",
   "metadata": {},
   "source": [
    "### Q19\n",
    "- Show the accuracy, jaccard Index, F1-score, logloss in a tabular format using dataframe for all of the above models"
   ]
  },
  {
   "cell_type": "code",
   "execution_count": 74,
   "id": "e8858cb2",
   "metadata": {},
   "outputs": [
    {
     "name": "stdout",
     "output_type": "stream",
     "text": [
      "                     Accuracy Score  Jaccard Index  F1-score   LogLoss\n",
      "KNN                        0.719084       0.000000  0.000000          \n",
      "Decision Tree              0.818321       0.480349  0.648968          \n",
      "Logistic Regression        0.827481       0.484018  0.652308  6.218218\n",
      "SVM                        0.845802       0.534562  0.696697          \n"
     ]
    }
   ],
   "source": [
    "data = {\n",
    "    'Accuracy Score': [KNN_Accuracy_Score, Tree_Accuracy_Score, LR_Accuracy_Score, SVM_Accuracy_Score],\n",
    "    'Jaccard Index': [KNN_JacardIndex, Tree_JaccardIndex, LR_JaccardIndex, SVM_JaccardIndex],\n",
    "    'F1-score': [KNN_F1_Score, Tree_F1_Score, LR_F1_Score, SVM_F1_Score],\n",
    "    'LogLoss': ['', '', LR_Log_Loss, '']\n",
    "}\n",
    "row_names = ['KNN', 'Decision Tree', 'Logistic Regression', 'SVM']\n",
    "Report = pd.DataFrame(data, index = row_names)\n",
    "print(Report)"
   ]
  }
 ],
 "metadata": {
  "kernelspec": {
   "display_name": "Python 3 (ipykernel)",
   "language": "python",
   "name": "python3"
  },
  "language_info": {
   "codemirror_mode": {
    "name": "ipython",
    "version": 3
   },
   "file_extension": ".py",
   "mimetype": "text/x-python",
   "name": "python",
   "nbconvert_exporter": "python",
   "pygments_lexer": "ipython3",
   "version": "3.10.9"
  }
 },
 "nbformat": 4,
 "nbformat_minor": 5
}
