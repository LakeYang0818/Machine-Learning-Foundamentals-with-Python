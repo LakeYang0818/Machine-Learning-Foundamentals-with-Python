{
 "cells": [
  {
   "cell_type": "markdown",
   "id": "631bb8a7",
   "metadata": {},
   "source": [
    "## Unit 1. Intro to ML\n",
    "### scikit-learn\n",
    "- algorithms: classification, regression, clustering\n",
    "- with: numpy & scipy\n",
    "\n",
    "### ML Steps\n",
    "\n",
    "1. Data Processing\n",
    "2. Train/Test Split\n",
    "3. Algorithm setup\n",
    "4. Model fitting\n",
    "5. Prediction\n",
    "6. Evaluation\n",
    "7. Model export"
   ]
  },
  {
   "cell_type": "code",
   "execution_count": null,
   "id": "42e9b563",
   "metadata": {},
   "outputs": [],
   "source": [
    "# Step 1. Data Processing\n",
    "from sklearn import preprocessing\n",
    "X = preprocessing.StandardScaler().fit(X).tarsnform(X)\n",
    "\n",
    "# Step 2. Train/Test Split\n",
    "from sklearn.model_selection import train_test_split\n",
    "X_train, X_test, y_train, y_test = train_test_split(X, y, test_size = 0.33)\n",
    "\n",
    "# Step 3. Algorithm Setup\n",
    "from sklearn import svm\n",
    "clf = svm.SVC(gamma = 0.001, C = 100.)\n",
    "\n",
    "# Step 4. Model fitting\n",
    "clf.fit(X_train, y_train)\n",
    "\n",
    "# Step 5. Prediction\n",
    "clf.predict(X_test)\n",
    "\n",
    "# Step 6. Evaluation\n",
    "from sklearn.metrics import confusion_matrix\n",
    "print(confusion_matrix(y_test, yhat, albel = [1, 0]))\n",
    "\n",
    "# Step 7. Model Export\n",
    "import pickle\n",
    "s = pickle.dumps(clf)"
   ]
  },
  {
   "cell_type": "markdown",
   "id": "4b01d082",
   "metadata": {},
   "source": [
    "### Supervised Learning\n",
    "\n",
    "- Classification: classifies labeled data\n",
    "    - the process of predicting discrete class labels or categories\n",
    "- Regression: predicts trends using previous labeled data\n",
    "    - the process of predicting continuous values\n",
    "- Has more evaluation methods than unsupervised learning\n",
    "- Controlled Environment\n",
    "\n",
    "### Unsupervised Learning:\n",
    "- Dimension reduction; Density estimation; Market basket analysis; Clustering\n",
    "- Clustering: finds patterns and groupings from unlabeld data\n",
    "    - grouping of data points or objects that are similar by:\n",
    "        - Discovering structure\n",
    "        - Summarization\n",
    "        - Anomaly Detection\n",
    "- Has fewer evaluation methods than supervised learning\n",
    "- Less Controlled Environment"
   ]
  }
 ],
 "metadata": {
  "kernelspec": {
   "display_name": "Python 3 (ipykernel)",
   "language": "python",
   "name": "python3"
  },
  "language_info": {
   "codemirror_mode": {
    "name": "ipython",
    "version": 3
   },
   "file_extension": ".py",
   "mimetype": "text/x-python",
   "name": "python",
   "nbconvert_exporter": "python",
   "pygments_lexer": "ipython3",
   "version": "3.10.9"
  }
 },
 "nbformat": 4,
 "nbformat_minor": 5
}
